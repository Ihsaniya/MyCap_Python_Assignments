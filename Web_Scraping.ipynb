{
  "nbformat": 4,
  "nbformat_minor": 0,
  "metadata": {
    "colab": {
      "provenance": [],
      "authorship_tag": "ABX9TyM7KUb0vxryQYk1CrM0u7rQ",
      "include_colab_link": true
    },
    "kernelspec": {
      "name": "python3",
      "display_name": "Python 3"
    },
    "language_info": {
      "name": "python"
    }
  },
  "cells": [
    {
      "cell_type": "markdown",
      "metadata": {
        "id": "view-in-github",
        "colab_type": "text"
      },
      "source": [
        "<a href=\"https://colab.research.google.com/github/Ihsaniya/MyCap_Python_Assignments/blob/main/Web_Scraping.ipynb\" target=\"_parent\"><img src=\"https://colab.research.google.com/assets/colab-badge.svg\" alt=\"Open In Colab\"/></a>"
      ]
    },
    {
      "cell_type": "code",
      "execution_count": 17,
      "metadata": {
        "id": "N5aZPTGADOEy"
      },
      "outputs": [],
      "source": [
        "import requests\n",
        "from bs4 import BeautifulSoup\n",
        "import pandas as pd\n",
        "agoda_url=\"https://www.agoda.com/\"\n",
        "req=requests.get(agoda_url)\n",
        "content = req.content\n",
        "soup = BeautifulSoup(content, \"html.parser\")\n",
        "all_hotels = soup.find_all (\"div\", {\"class\":\"PropertyCardItem\"})\n",
        "scraped_info_list = []\n",
        "for hotel in all_hotels:\n",
        "  hotel_name = hotel.find(\"h3\",{\"class\":\"hotel_name\"}).text\n",
        "  hotel_address = hotel.find(\"span\", {\"class\":\"sc-jrAgrp\"}).text\n",
        "  hotel_rating = hotel.find(\"img\", {\"class\":\"sc-bdfBwQ\"}).text\n",
        "  hotel_price = hotel.find(\"span\", {\"class\":\"ListPropertyCard_Prices\"}).text\n",
        "  print(hotel_name , hotel_address , hotel_rating , hotel_price_)\n",
        "  scraped_info_list.append(project_name)\n",
        "dataframe = pd.DataFrame(scraped_info_list)\n",
        "dataframe.to_csv(\"agoda.csv\")"
      ]
    },
    {
      "cell_type": "code",
      "source": [],
      "metadata": {
        "id": "a7FDUIDvNlXM"
      },
      "execution_count": null,
      "outputs": []
    }
  ]
}