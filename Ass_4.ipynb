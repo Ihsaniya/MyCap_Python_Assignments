{
  "nbformat": 4,
  "nbformat_minor": 0,
  "metadata": {
    "colab": {
      "provenance": [],
      "authorship_tag": "ABX9TyNDPWtJ2UqnC+eVK7cFp00T",
      "include_colab_link": true
    },
    "kernelspec": {
      "name": "python3",
      "display_name": "Python 3"
    },
    "language_info": {
      "name": "python"
    }
  },
  "cells": [
    {
      "cell_type": "markdown",
      "metadata": {
        "id": "view-in-github",
        "colab_type": "text"
      },
      "source": [
        "<a href=\"https://colab.research.google.com/github/Ihsaniya/MyCap_Python_Assignments/blob/main/Ass_4.ipynb\" target=\"_parent\"><img src=\"https://colab.research.google.com/assets/colab-badge.svg\" alt=\"Open In Colab\"/></a>"
      ]
    },
    {
      "cell_type": "code",
      "source": [
        "class Student:\n",
        "    def __init__(self, name, age, grade):\n",
        "        self.name = name\n",
        "        self.age = age\n",
        "        self.grade = grade\n",
        "\n",
        "class School:\n",
        "    def __init__(self):\n",
        "        self.students = []\n",
        "\n",
        "    def add_student(self, student):\n",
        "        self.students.append(student)\n",
        "\n",
        "    def remove_student(self, student):\n",
        "        self.students.remove(student)\n",
        "\n",
        "    def list_students(self):\n",
        "        for student in self.students:\n",
        "            print(f\"Name: {student.name}, Age: {student.age}, Grade: {student.grade}\")\n",
        "        else:\n",
        "            print(\"Student not found.\")\n",
        "\n",
        "def main():\n",
        "    school = School()\n",
        "\n",
        "    while True:\n",
        "        print(\"\\nSchool Administration Program\")\n",
        "        print(\"1. Add Student\")\n",
        "        print(\"2. Remove Student\")\n",
        "        print(\"3. List Students\")\n",
        "        print(\"4. Quit\")\n",
        "\n",
        "        choice = input(\"Enter your choice: \")\n",
        "\n",
        "        if choice == '1':\n",
        "            name = input(\"Enter student's name: \")\n",
        "            age = int(input(\"Enter student's age: \"))\n",
        "            grade = int(input(\"Enter student's grade: \"))\n",
        "            student = Student(name, age, grade)\n",
        "            school.add_student(student)\n",
        "            print(\"Student added successfully!\")\n",
        "\n",
        "        elif choice == '2':\n",
        "            name = input(\"Enter student's name to remove: \")\n",
        "            for student in school.students:\n",
        "                if student.name == name:\n",
        "                    school.remove_student(student)\n",
        "                    print(\"Student removed successfully!\")\n",
        "                    break\n",
        "            else:\n",
        "                print(\"Student not found.\")\n",
        "\n",
        "        elif choice == '3':\n",
        "            print(\"\\nList of Students:\")\n",
        "            school.list_students()\n",
        "\n",
        "        elif choice == '4':\n",
        "            print(\"Exiting the program.\")\n",
        "            break\n",
        "\n",
        "        else:\n",
        "            print(\"Invalid choice. Please enter a valid option.\")\n",
        "\n",
        "if __name__ == \"__main__\":\n",
        "  main()"
      ],
      "metadata": {
        "colab": {
          "base_uri": "https://localhost:8080/"
        },
        "id": "zs_wRR4ppzTi",
        "outputId": "697ff042-28f9-4c28-94d7-6e34b4cf5a18"
      },
      "execution_count": null,
      "outputs": [
        {
          "name": "stdout",
          "output_type": "stream",
          "text": [
            "\n",
            "School Administration Program\n",
            "1. Add Student\n",
            "2. Remove Student\n",
            "3. List Students\n",
            "4. Quit\n",
            "Enter your choice: 1\n"
          ]
        }
      ]
    },
    {
      "cell_type": "code",
      "source": [],
      "metadata": {
        "id": "aC617hNItIyP"
      },
      "execution_count": null,
      "outputs": []
    }
  ]
}